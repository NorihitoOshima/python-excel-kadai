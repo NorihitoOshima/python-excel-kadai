{
  "nbformat": 4,
  "nbformat_minor": 0,
  "metadata": {
    "colab": {
      "provenance": []
    },
    "kernelspec": {
      "name": "python3",
      "display_name": "Python 3"
    },
    "language_info": {
      "name": "python"
    }
  },
  "cells": [
    {
      "cell_type": "code",
      "source": [
        "import openpyxl\n",
        "import pandas as pd\n",
        "!pip install xlsxwriter\n",
        "\n",
        "# 2022年と2023年のデータを読み込む\n",
        "df_2022 = pd.read_excel('2022_年間売上表.xlsx', sheet_name='Sheet1')\n",
        "df_2023 = pd.read_excel('2023_年間売上表.xlsx', sheet_name='Sheet1')\n",
        "\n",
        "# データフレームを縦に連結する\n",
        "grouped_data = pd.concat([df_2022, df_2023], ignore_index=True)\n",
        "\n",
        "# 「商品」と「売上年」ごとにグループ化し、金額（千円）の合計を計算する\n",
        "grouped_data = grouped_data.groupby(['商品', '売上年'])['金額（千円）'].sum().reset_index()\n",
        "\n",
        "grouped_data\n",
        "\n",
        "# Excelファイルを作成する、xlsxwriterエンジンを使用\n",
        "writer = pd.ExcelWriter('売上集計表.xlsx', engine='xlsxwriter')\n",
        "\n",
        "# DataFrameオブジェクトをExcelファイルに書き込む、シート名とインデックスを指定\n",
        "grouped_data.to_excel(writer, sheet_name='売上集計表', index=False)\n",
        "\n",
        "# ワークブックとワークシートのオブジェクトを取得\n",
        "workbook = writer.book\n",
        "worksheet = writer.sheets['売上集計表']\n",
        "\n",
        "# ヘッダー部分のフォーマットを設定、xlsxwriterの機能を使用\n",
        "header_format = workbook.add_format({'bg_color': '#F2F2F2'})\n",
        "\n",
        "# ヘッダー行のセルにフォーマットを適用、grouped_dataを使用\n",
        "for col_num, value in enumerate(grouped_data.columns.values):\n",
        "    worksheet.write(0, col_num, value, header_format)\n",
        "\n",
        "# Excelファイルを保存する\n",
        "writer.save()\n"
      ],
      "metadata": {
        "colab": {
          "base_uri": "https://localhost:8080/"
        },
        "id": "QDyWVhiSN1YR",
        "outputId": "1a4ec26f-0b47-4401-af1f-4b0e55956b88"
      },
      "execution_count": 15,
      "outputs": [
        {
          "output_type": "stream",
          "name": "stdout",
          "text": [
            "Requirement already satisfied: xlsxwriter in /usr/local/lib/python3.10/dist-packages (3.2.0)\n"
          ]
        },
        {
          "output_type": "stream",
          "name": "stderr",
          "text": [
            "<ipython-input-15-984dfc0b501e>:35: FutureWarning: save is not part of the public API, usage can give unexpected results and will be removed in a future version\n",
            "  writer.save()\n"
          ]
        }
      ]
    },
    {
      "cell_type": "code",
      "source": [],
      "metadata": {
        "id": "ycq9MRafTsTN"
      },
      "execution_count": null,
      "outputs": []
    }
  ]
}