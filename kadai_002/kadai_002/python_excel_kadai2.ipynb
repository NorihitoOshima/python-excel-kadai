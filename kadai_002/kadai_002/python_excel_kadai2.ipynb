{
  "nbformat": 4,
  "nbformat_minor": 0,
  "metadata": {
    "colab": {
      "provenance": []
    },
    "kernelspec": {
      "name": "python3",
      "display_name": "Python 3"
    },
    "language_info": {
      "name": "python"
    }
  },
  "cells": [
    {
      "cell_type": "code",
      "execution_count": null,
      "metadata": {
        "id": "I5bvp7Aojnsv"
      },
      "outputs": [],
      "source": [
        "import pandas as pd\n",
        "\n",
        "#データフレーム作成\n",
        "df = pd.DataFrame({'日付':['2023-05-17','2023-05-18','2023-05-19','2023-05-20','2023-05-21'],\n",
        "                   '社員名':['山田','佐藤','鈴木','田中','高橋'],\n",
        "                   '売上':[100,200,150,300,250],\n",
        "                   '部門':['メーカー','代理店','メーカー','商社','代理店'],\n",
        "                   })\n",
        "\n",
        "#「売上」の平均を求めて新しい列を作成\n",
        "df['平均売上'] = df['売上'].mean()\n",
        "\n",
        "#「売上」で分岐して業績ランクを求める関数「performance」を定義\n",
        "def performance(level):\n",
        "  result = '';\n",
        "  if level >=250 :\n",
        "    result = 'A';\n",
        "  elif level == 200:\n",
        "    result = 'B';\n",
        "  else:\n",
        "    result = 'C';\n",
        "  return result\n",
        "\n",
        "#「業績ランク」列を作成し、関数「performance」を適用して値を設定\n",
        "df['業績ランク'] = df['売上'].apply(performance)\n",
        "\n",
        "#Excelファイルを作成\n",
        "writer = pd.ExcelWriter('業績.xlsx')\n",
        "\n",
        "#DataFrameオブジェクトをExcelファイルに書き込む\n",
        "df.to_excel(writer,sheet_name='sheet1',index=False)\n",
        "\n",
        "#Excelファイルを閉じる\n",
        "writer.close()"
      ]
    }
  ]
}